{
 "cells": [
  {
   "cell_type": "markdown",
   "id": "4f34b419",
   "metadata": {},
   "source": [
    "# EDUNET FOUNDATION-Self Practise Notebook \n",
    "\n",
    "# Lab 11: Python program that demonstrates exception handling "
   ]
  },
  {
   "attachments": {
    "image.png": {
     "image/png": "[encoded data removed]"
    }
   },
   "cell_type": "markdown",
   "id": "4b2b2cc7",
   "metadata": {},
   "source": [
    "1. What will be the output of the following Python code?\n",
    "\n",
    "![image.png](attachment:image.png)\n",
    "\n",
    "\n",
    "\n",
    "a. Counter({2: 2, 4: 1, 5: 2})\n",
    "\n",
    "b. Counter({2: 2, 4: 1, 5: 1})\n",
    "\n",
    "c.Counter({4: 2})\n",
    "\n",
    "d.Counter({5: 1})"
   ]
  },
  {
   "cell_type": "code",
   "execution_count": null,
   "id": "f58a6ab2",
   "metadata": {},
   "outputs": [],
   "source": []
  },
  {
   "attachments": {
    "image.png": {
     "image/png": "[encoded data removed]"
    }
   },
   "cell_type": "markdown",
   "id": "d62e2cf2",
   "metadata": {},
   "source": [
    "2. What will be the output of the following code?\n",
    "\n",
    "![image.png](attachment:image.png)\n",
    "\n",
    "\n",
    "a.a is now 30 \n",
    "\n",
    "b.None of the mentioned\n",
    "\n",
    "c.a is now 20\n",
    "\n",
    "d.Error\n"
   ]
  },
  {
   "cell_type": "code",
   "execution_count": null,
   "id": "8e1ac7c8",
   "metadata": {},
   "outputs": [],
   "source": []
  },
  {
   "attachments": {
    "image.png": {
     "image/png": "[encoded data removed]"
    }
   },
   "cell_type": "markdown",
   "id": "44e1c778",
   "metadata": {},
   "source": [
    "3. What will be the output of the following code?\n",
    "\n",
    "![image.png](attachment:image.png)\n",
    "\n",
    "a.11\n",
    "\n",
    "b.0\n",
    "\n",
    "c.10\n",
    "\n",
    "d.Error\n",
    "\n"
   ]
  },
  {
   "cell_type": "code",
   "execution_count": null,
   "id": "af8b78c0",
   "metadata": {},
   "outputs": [],
   "source": []
  },
  {
   "cell_type": "markdown",
   "id": "8ea4d91c",
   "metadata": {},
   "source": [
    "4.Write a program to demonstrate AttributeError"
   ]
  },
  {
   "cell_type": "code",
   "execution_count": null,
   "id": "f337e222",
   "metadata": {},
   "outputs": [],
   "source": []
  }
 ],
 "metadata": {
  "kernelspec": {
   "display_name": "Python 3 (ipykernel)",
   "language": "python",
   "name": "python3"
  },
  "language_info": {
   "codemirror_mode": {
    "name": "ipython",
    "version": 3
   },
   "file_extension": ".py",
   "mimetype": "text/x-python",
   "name": "python",
   "nbconvert_exporter": "python",
   "pygments_lexer": "ipython3",
   "version": "3.9.13"
  }
 },
 "nbformat": 4,
 "nbformat_minor": 5
}
