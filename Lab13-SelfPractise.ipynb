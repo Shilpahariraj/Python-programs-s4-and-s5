{
 "cells": [
  {
   "cell_type": "markdown",
   "id": "343f40f0",
   "metadata": {},
   "source": [
    "# EDUNET FOUNDATION-Self Practise  Notebook\n",
    "\n",
    "# Lab– 13: Python program that demonstrates error handling "
   ]
  },
  {
   "cell_type": "markdown",
   "id": "3d2eb92c",
   "metadata": {},
   "source": [
    "1. Raise an error and stop the program if x is lower than 0:"
   ]
  },
  {
   "cell_type": "code",
   "execution_count": null,
   "id": "8deb3a81",
   "metadata": {},
   "outputs": [],
   "source": []
  },
  {
   "cell_type": "markdown",
   "id": "d4c19415",
   "metadata": {},
   "source": [
    "2. Raise a TypeError if x is not an integer:"
   ]
  },
  {
   "cell_type": "code",
   "execution_count": null,
   "id": "ff2227aa",
   "metadata": {},
   "outputs": [],
   "source": []
  }
 ],
 "metadata": {
  "kernelspec": {
   "display_name": "Python 3 (ipykernel)",
   "language": "python",
   "name": "python3"
  },
  "language_info": {
   "codemirror_mode": {
    "name": "ipython",
    "version": 3
   },
   "file_extension": ".py",
   "mimetype": "text/x-python",
   "name": "python",
   "nbconvert_exporter": "python",
   "pygments_lexer": "ipython3",
   "version": "3.9.13"
  }
 },
 "nbformat": 4,
 "nbformat_minor": 5
}
