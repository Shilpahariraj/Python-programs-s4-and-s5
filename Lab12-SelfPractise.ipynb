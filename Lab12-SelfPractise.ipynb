{
 "cells": [
  {
   "cell_type": "markdown",
   "id": "343f40f0",
   "metadata": {},
   "source": [
    "# EDUNET FOUNDATION-Self Practise Notebook\n",
    "\n",
    "# Lab 12: Python program that demonstrates indentation error "
   ]
  },
  {
   "cell_type": "markdown",
   "id": "32ac0537",
   "metadata": {},
   "source": [
    "1. Write a Python program to find the maximum out of three numbers to demostrate indentation error   "
   ]
  },
  {
   "cell_type": "code",
   "execution_count": null,
   "id": "4a12665b",
   "metadata": {},
   "outputs": [],
   "source": []
  }
 ],
 "metadata": {
  "kernelspec": {
   "display_name": "Python 3 (ipykernel)",
   "language": "python",
   "name": "python3"
  },
  "language_info": {
   "codemirror_mode": {
    "name": "ipython",
    "version": 3
   },
   "file_extension": ".py",
   "mimetype": "text/x-python",
   "name": "python",
   "nbconvert_exporter": "python",
   "pygments_lexer": "ipython3",
   "version": "3.9.13"
  }
 },
 "nbformat": 4,
 "nbformat_minor": 5
}
