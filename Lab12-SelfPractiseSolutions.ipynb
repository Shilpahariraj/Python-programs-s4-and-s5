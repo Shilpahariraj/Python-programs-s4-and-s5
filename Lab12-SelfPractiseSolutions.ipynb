{
 "cells": [
  {
   "cell_type": "markdown",
   "id": "6356c4f7",
   "metadata": {},
   "source": [
    "# EDUNET FOUNDATION-Self Practise Solution Notebook\n",
    "\n",
    "\n",
    "# Lab 12: Python program that demonstrates indentation error "
   ]
  },
  {
   "cell_type": "code",
   "execution_count": 4,
   "id": "f1ab9dba",
   "metadata": {},
   "outputs": [
    {
     "ename": "IndentationError",
     "evalue": "unindent does not match any outer indentation level (<tokenize>, line 8)",
     "output_type": "error",
     "traceback": [
      "\u001b[1;36m  File \u001b[1;32m\"<tokenize>\"\u001b[1;36m, line \u001b[1;32m8\u001b[0m\n\u001b[1;33m    else:\u001b[0m\n\u001b[1;37m    ^\u001b[0m\n\u001b[1;31mIndentationError\u001b[0m\u001b[1;31m:\u001b[0m unindent does not match any outer indentation level\n"
     ]
    }
   ],
   "source": [
    "# Python program to find the maximum out of three numbers:  \n",
    "def max(x,y,z):  # max function will return the maximum among the three numbers  \n",
    "if(x>y):  \n",
    "   if(x>z):  \n",
    "     return x  \n",
    "   else:                                                # Nested if else block  \n",
    "     return z  \n",
    "  else:  \n",
    "    if(y>z):  \n",
    "      return y  \n",
    "    else:  \n",
    "      return z     \n",
    "a = int(input(\"Enter first number: \"))  \n",
    "b = int(input(\"Enter second number: \"))  \n",
    "c = int(input(\"Enter third number: \"))  \n",
    "print(\"Finding the Maximum out of a:\", a ,\"and b:\", b, \"and c:\",c)  \n",
    "d=max(a,b,c)     # calling the max function  \n",
    "print(d,\"is maximum\")           # printing the result  "
   ]
  }
 ],
 "metadata": {
  "kernelspec": {
   "display_name": "Python 3 (ipykernel)",
   "language": "python",
   "name": "python3"
  },
  "language_info": {
   "codemirror_mode": {
    "name": "ipython",
    "version": 3
   },
   "file_extension": ".py",
   "mimetype": "text/x-python",
   "name": "python",
   "nbconvert_exporter": "python",
   "pygments_lexer": "ipython3",
   "version": "3.9.13"
  }
 },
 "nbformat": 4,
 "nbformat_minor": 5
}
