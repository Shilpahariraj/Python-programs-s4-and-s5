{
 "cells": [
  {
   "cell_type": "markdown",
   "id": "343f40f0",
   "metadata": {},
   "source": [
    "# EDUNET FOUNDATION-Classroom Practise Notebook\n",
    "\n",
    "# Lab– 14: Python program that demonstrates raising exceptions "
   ]
  },
  {
   "cell_type": "markdown",
   "id": "54ebaf30",
   "metadata": {},
   "source": [
    "# Python Raise an Exception"
   ]
  },
  {
   "cell_type": "markdown",
   "id": "591afee8",
   "metadata": {},
   "source": [
    "1. Write a python program to avoid negative integer using \"raise\" "
   ]
  },
  {
   "cell_type": "code",
   "execution_count": null,
   "id": "023da82e",
   "metadata": {},
   "outputs": [],
   "source": []
  },
  {
   "cell_type": "markdown",
   "id": "de04b122",
   "metadata": {},
   "source": [
    "\n",
    "2. Write a python program to read only integers and demonstrate error handling using \"raise \""
   ]
  },
  {
   "cell_type": "code",
   "execution_count": null,
   "id": "9b1d33a1",
   "metadata": {},
   "outputs": [],
   "source": []
  }
 ],
 "metadata": {
  "kernelspec": {
   "display_name": "Python 3 (ipykernel)",
   "language": "python",
   "name": "python3"
  },
  "language_info": {
   "codemirror_mode": {
    "name": "ipython",
    "version": 3
   },
   "file_extension": ".py",
   "mimetype": "text/x-python",
   "name": "python",
   "nbconvert_exporter": "python",
   "pygments_lexer": "ipython3",
   "version": "3.9.13"
  }
 },
 "nbformat": 4,
 "nbformat_minor": 5
}
